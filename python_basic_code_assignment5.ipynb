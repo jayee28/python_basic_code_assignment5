{
 "cells": [
  {
   "cell_type": "code",
   "execution_count": 2,
   "id": "920679c5",
   "metadata": {},
   "outputs": [
    {
     "name": "stdout",
     "output_type": "stream",
     "text": [
      "enter the no:12\n",
      "enter the no:18\n",
      "hcf of 12 and 18 is 6\n"
     ]
    }
   ],
   "source": [
    "#Q2.Write a Python Program to Find HCF?\n",
    "x=int(input(\"enter the no:\"))\n",
    "y=int(input(\"enter the no:\"))\n",
    "for i in range(2,x+1):\n",
    "    if x%i == 0 and y%i == 0:\n",
    "        hcf = i\n",
    "print(\"hcf of\",x,\"and\",y,\"is\",hcf)"
   ]
  },
  {
   "cell_type": "code",
   "execution_count": 3,
   "id": "c4c2e403",
   "metadata": {},
   "outputs": [
    {
     "name": "stdout",
     "output_type": "stream",
     "text": [
      "enter the no:12\n",
      "enter the no:18\n",
      "36.0\n"
     ]
    }
   ],
   "source": [
    "#Q1.Write a Python Program to Find LCM?\n",
    "x=int(input(\"enter the no:\"))\n",
    "y=int(input(\"enter the no:\"))\n",
    "for i in range(2,x+1):\n",
    "    if x%i == 0 and y%i == 0:\n",
    "        hcf = i\n",
    "lcm = (x*y)/hcf\n",
    "print(lcm)"
   ]
  },
  {
   "cell_type": "code",
   "execution_count": 4,
   "id": "598329da",
   "metadata": {},
   "outputs": [
    {
     "name": "stdout",
     "output_type": "stream",
     "text": [
      "enter the decimal no:25\n",
      "25 in binary is 0b11001\n",
      "25 in octal is 0o31\n",
      "25 in hexadecimal is 0x19\n"
     ]
    }
   ],
   "source": [
    "#Q3.Write a Python Program to Convert Decimal to Binary, Octal and Hexadecimal?\n",
    "a=int(input(\"enter the decimal no:\"))\n",
    "print(a,\"in binary is\",bin(a))\n",
    "print(a,\"in octal is\",oct(a))\n",
    "print(a,\"in hexadecimal is\",hex(a))"
   ]
  },
  {
   "cell_type": "code",
   "execution_count": 6,
   "id": "c15d2742",
   "metadata": {},
   "outputs": [
    {
     "name": "stdout",
     "output_type": "stream",
     "text": [
      "enter the character:A\n",
      "65\n"
     ]
    }
   ],
   "source": [
    "#Q4.Write a Python Program To Find ASCII value of a character?\n",
    "a=input(\"enter the character:\")\n",
    "for i in a:\n",
    "    print(ord(a))"
   ]
  },
  {
   "cell_type": "code",
   "execution_count": 7,
   "id": "ee4f98a1",
   "metadata": {},
   "outputs": [
    {
     "name": "stdout",
     "output_type": "stream",
     "text": [
      "enter the no:10\n",
      "enter the no:5\n",
      "Please select the operation.\n",
      "1. Add\n",
      "2. Subtract\n",
      "3. Multiply\n",
      "4. Divide\n",
      "enter the choice 1/2/3/4: 1\n",
      "Addition of 10 and 5 is: 15\n"
     ]
    }
   ],
   "source": [
    "#5.Write a Python Program to Make a Simple Calculator with 4 basic mathematical operations?\n",
    "x=int(input(\"enter the no:\"))\n",
    "y=int(input(\"enter the no:\"))\n",
    "print (\"Please select the operation.\")    \n",
    "print (\"1. Add\")    \n",
    "print (\"2. Subtract\")    \n",
    "print (\"3. Multiply\")    \n",
    "print (\"4. Divide\")   \n",
    "choices=input(\"enter the choice 1/2/3/4: \")\n",
    "if choices == \"1\":\n",
    "    print(\"Addition of\",x,\"and\",y,\"is:\",x+y)\n",
    "elif choices == \"2\":\n",
    "    print(\"Subtraction of\",x,\"and\",y,\"is:\",x-y)\n",
    "elif choices == \"3\":\n",
    "    print(\"multiplication of\",x,\"and\",y,\"is:\",x*y)\n",
    "elif choices == \"4\":\n",
    "    print(\"division of\",x,\"and\",y,\"is:\",x/y)\n",
    "else:\n",
    "    print(\"not valid input\")"
   ]
  },
  {
   "cell_type": "code",
   "execution_count": null,
   "id": "afd28e82",
   "metadata": {},
   "outputs": [],
   "source": []
  }
 ],
 "metadata": {
  "kernelspec": {
   "display_name": "Python 3",
   "language": "python",
   "name": "python3"
  },
  "language_info": {
   "codemirror_mode": {
    "name": "ipython",
    "version": 3
   },
   "file_extension": ".py",
   "mimetype": "text/x-python",
   "name": "python",
   "nbconvert_exporter": "python",
   "pygments_lexer": "ipython3",
   "version": "3.8.8"
  }
 },
 "nbformat": 4,
 "nbformat_minor": 5
}
